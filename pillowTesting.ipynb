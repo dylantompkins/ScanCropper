{
 "metadata": {
  "language_info": {
   "codemirror_mode": {
    "name": "ipython",
    "version": 3
   },
   "file_extension": ".py",
   "mimetype": "text/x-python",
   "name": "python",
   "nbconvert_exporter": "python",
   "pygments_lexer": "ipython3",
   "version": "3.8.5-final"
  },
  "orig_nbformat": 2,
  "kernelspec": {
   "name": "python_defaultSpec_1597348979904",
   "display_name": "Python 3.8.5 32-bit"
  }
 },
 "nbformat": 4,
 "nbformat_minor": 2,
 "cells": [
  {
   "cell_type": "markdown",
   "metadata": {},
   "source": [
    "## Basic Image viewing"
   ]
  },
  {
   "cell_type": "code",
   "execution_count": 143,
   "metadata": {
    "tags": []
   },
   "outputs": [
    {
     "output_type": "stream",
     "name": "stdout",
     "text": "JPEG (1700, 2338) RGB\n"
    }
   ],
   "source": [
    "from PIL import Image\n",
    "im = Image.open(\"testImg.jpg\")\n",
    "print(im.format, im.size, im.mode)\n",
    "im.show()"
   ]
  },
  {
   "cell_type": "markdown",
   "metadata": {},
   "source": [
    "## Filtering Image\n",
    "- find edges is definitely a pert of the recipie\n",
    "- emboss seems to effectively smooth out the white part of the image"
   ]
  },
  {
   "cell_type": "code",
   "execution_count": 144,
   "metadata": {},
   "outputs": [],
   "source": [
    "from PIL import ImageFilter\n",
    "filters = [ImageFilter.EMBOSS, ImageFilter.SMOOTH, ImageFilter.FIND_EDGES, ImageFilter.EDGE_ENHANCE]\n",
    "imf = im\n",
    "\n",
    "for f in filters:\n",
    "    imf = imf.filter(f)\n",
    "\n",
    "imf.show()"
   ]
  },
  {
   "cell_type": "markdown",
   "metadata": {},
   "source": [
    "## Edge Finding Algorithm\n",
    "- goal is to find x of vertical edge and y of horizontal edge to then crop\n",
    "- assumes (for now) that picture is in upper left corner"
   ]
  },
  {
   "cell_type": "code",
   "execution_count": 145,
   "metadata": {
    "tags": []
   },
   "outputs": [],
   "source": [
    "px = imf.load()"
   ]
  },
  {
   "cell_type": "code",
   "execution_count": 146,
   "metadata": {},
   "outputs": [],
   "source": [
    "def getPx(i, offset, vert):\n",
    "    if (vert):\n",
    "        return px[offset, i]\n",
    "    else:\n",
    "        return px[i, offset]"
   ]
  },
  {
   "cell_type": "code",
   "execution_count": 147,
   "metadata": {
    "tags": []
   },
   "outputs": [],
   "source": [
    "def findEdge(upperBounds, offset, vert):\n",
    "    for i in range(upperBounds - 1, 0, -1):\n",
    "        if (getPx(i, offset, vert) == (255, 255, 255)):\n",
    "            return i"
   ]
  },
  {
   "cell_type": "code",
   "execution_count": 148,
   "metadata": {},
   "outputs": [],
   "source": [
    "x = findEdge(imf.width, 100, False)\n",
    "y = findEdge(imf.height, 100, True)"
   ]
  },
  {
   "cell_type": "markdown",
   "metadata": {},
   "source": [
    "## Cropping\n",
    "- crop based on edges previously found"
   ]
  },
  {
   "cell_type": "code",
   "execution_count": 149,
   "metadata": {},
   "outputs": [],
   "source": [
    "imc = im.crop((0,0,x,y))\n",
    "imc.show()"
   ]
  },
  {
   "cell_type": "code",
   "execution_count": null,
   "metadata": {},
   "outputs": [],
   "source": []
  }
 ]
}